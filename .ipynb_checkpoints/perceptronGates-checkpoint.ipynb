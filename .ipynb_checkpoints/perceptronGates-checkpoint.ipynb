{
 "cells": [
  {
   "cell_type": "code",
   "execution_count": 5,
   "id": "b48e1897-01a7-4eeb-a07f-0bf6dab077eb",
   "metadata": {},
   "outputs": [
    {
     "data": {
      "text/plain": [
       "0.8245390385353003"
      ]
     },
     "execution_count": 5,
     "metadata": {},
     "output_type": "execute_result"
    }
   ],
   "source": [
    "import random"
   ]
  },
  {
   "cell_type": "code",
   "execution_count": null,
   "id": "1463991f-8bf1-4b9e-8f57-a57942731179",
   "metadata": {},
   "outputs": [],
   "source": [
    "class andGatePerceptron:\n",
    "    \n",
    "    def __init__(self):\n",
    "        w1 = random.uniform(0, 1)\n",
    "        w2 = random.uniform(0, 1)\n",
    "\n",
    "\n"
   ]
  }
 ],
 "metadata": {
  "kernelspec": {
   "display_name": "Python 3 (ipykernel)",
   "language": "python",
   "name": "python3"
  },
  "language_info": {
   "codemirror_mode": {
    "name": "ipython",
    "version": 3
   },
   "file_extension": ".py",
   "mimetype": "text/x-python",
   "name": "python",
   "nbconvert_exporter": "python",
   "pygments_lexer": "ipython3",
   "version": "3.11.7"
  }
 },
 "nbformat": 4,
 "nbformat_minor": 5
}
