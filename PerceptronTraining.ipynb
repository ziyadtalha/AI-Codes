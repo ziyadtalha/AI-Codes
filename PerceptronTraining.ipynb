{
 "cells": [
  {
   "cell_type": "code",
   "execution_count": 3,
   "id": "b48e1897-01a7-4eeb-a07f-0bf6dab077eb",
   "metadata": {},
   "outputs": [],
   "source": [
    "import random\n",
    "import numpy as np"
   ]
  },
  {
   "cell_type": "code",
   "execution_count": 57,
   "id": "1463991f-8bf1-4b9e-8f57-a57942731179",
   "metadata": {},
   "outputs": [],
   "source": [
    "class Perceptron:\n",
    "    def __init__(self, threshold, learningRate=0.01, numIterations=40):\n",
    "        self.learningRate = learningRate\n",
    "        self.numIterations = numIterations\n",
    "        self.threshold = threshold\n",
    "        self.weights = None\n",
    "\n",
    "    def calculateOutput(self, X, samNum):\n",
    "        sum = 0\n",
    "        for w in range(len(self.weights)):\n",
    "            sum += X[samNum][w] * self.weights[w]\n",
    "        return sum\n",
    "\n",
    "\n",
    "\n",
    "\n",
    "    def train(self, X, y):\n",
    "        numSamples = len(X)\n",
    "        numFeatures =  len(X[0])\n",
    "\n",
    "        #one weight for one feature each\n",
    "        self.weights = np.zeros(numFeatures)\n",
    "\n",
    "        for wNum in range(len(self.weights)):\n",
    "            self.weights[wNum] = random.uniform(0, 1)\n",
    "\n",
    "        for i in range(self.numIterations):\n",
    "            for samNum in range(numSamples):\n",
    "                sum = self.calculateOutput(X, samNum)\n",
    "\n",
    "                #activation function:\n",
    "\n",
    "                output = 0\n",
    "                if(sum >= self.threshold):\n",
    "                    output = 1\n",
    "\n",
    "                if(output != y[samNum]):\n",
    "                    #update weights here\n",
    "                    for wNum in range(len(self.weights)):\n",
    "                        delta = self.learningRate * (y[samNum] - output)\n",
    "                        self.weights[wNum] += delta\n",
    "                    break\n",
    "\n",
    "    def predict(self, test):\n",
    "        outputs = []\n",
    "        for sample in test:\n",
    "            sum = 0\n",
    "            for wNum in range(len(self.weights)):\n",
    "                sum += sample[wNum] * self.weights[wNum]\n",
    "\n",
    "            output = 0\n",
    "            if(sum >= self.threshold):\n",
    "                output = 1\n",
    "\n",
    "            outputs.append(output)\n",
    "\n",
    "        return outputs\n"
   ]
  },
  {
   "cell_type": "code",
   "execution_count": 59,
   "id": "3f20908b",
   "metadata": {},
   "outputs": [
    {
     "name": "stdout",
     "output_type": "stream",
     "text": [
      "[0.83045    0.88685799]\n",
      "[0, 0, 0, 1]\n"
     ]
    }
   ],
   "source": [
    "XTrain = np.array([[0, 0], [0, 1], [1, 0], [1, 1]])\n",
    "\n",
    "yAnd = np.array([0, 0, 0, 1])\n",
    "\n",
    "andP = Perceptron(1)\n",
    "\n",
    "andP.train(XTrain, yAnd)\n",
    "\n",
    "print(andP.predict(XTrain))"
   ]
  }
 ],
 "metadata": {
  "kernelspec": {
   "display_name": "Python 3 (ipykernel)",
   "language": "python",
   "name": "python3"
  },
  "language_info": {
   "codemirror_mode": {
    "name": "ipython",
    "version": 3
   },
   "file_extension": ".py",
   "mimetype": "text/x-python",
   "name": "python",
   "nbconvert_exporter": "python",
   "pygments_lexer": "ipython3",
   "version": "3.11.7"
  }
 },
 "nbformat": 4,
 "nbformat_minor": 5
}
